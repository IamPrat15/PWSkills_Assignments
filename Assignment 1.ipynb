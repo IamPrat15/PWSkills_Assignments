{
 "cells": [
  {
   "cell_type": "markdown",
   "id": "aa22216f-378b-4cdd-8bcc-3cb903f9accb",
   "metadata": {},
   "source": [
    "Q1. Create one variable containing following type of data:\n",
    "(i) string\n",
    "(ii) list\n",
    "(iii) float\n",
    "(iv) tuple"
   ]
  },
  {
   "cell_type": "code",
   "execution_count": 1,
   "id": "12a7be02-77f5-43f8-aa37-a4d57ef6f15e",
   "metadata": {},
   "outputs": [
    {
     "name": "stdout",
     "output_type": "stream",
     "text": [
      "<class 'str'>\n",
      "<class 'list'>\n",
      "<class 'float'>\n",
      "<class 'tuple'>\n"
     ]
    }
   ],
   "source": [
    "string = 'String'\n",
    "list_ = [1,2,3,4.5,10e5,\"String\"]\n",
    "float_ = 7.5\n",
    "tuple_ = (1,2,3,4,5)\n",
    "\n",
    "print(type(string))\n",
    "print(type(list_))\n",
    "print(type(float_))\n",
    "print(type(tuple_))"
   ]
  },
  {
   "cell_type": "markdown",
   "id": "ab8936c1-2159-445f-a691-ac89f9f67c20",
   "metadata": {},
   "source": [
    "Q2. Given are some following variables containing data:\n",
    "(i) var1 = ‘ ‘\n",
    "(ii) var2 = ‘[ DS , ML , Python]’\n",
    "(iii) var3 = [ ‘DS’ , ’ML’ , ‘Python’ ]\n",
    "(iv) var4 = 1.\n",
    "What will be the data type of the above given variable."
   ]
  },
  {
   "cell_type": "code",
   "execution_count": 2,
   "id": "435f136d-65fb-4ec7-929d-c531c787cfe5",
   "metadata": {},
   "outputs": [
    {
     "name": "stdout",
     "output_type": "stream",
     "text": [
      "<class 'str'>\n",
      "<class 'str'>\n",
      "<class 'list'>\n",
      "<class 'int'>\n"
     ]
    }
   ],
   "source": [
    "var1 = ''\n",
    "var2 = '[DS, ML, Python]'\n",
    "var3 = ['DS', 'ML', 'Python']\n",
    "var4 = 1\n",
    "\n",
    "print(type(var1))\n",
    "print(type(var2))\n",
    "print(type(var3))\n",
    "print(type(var4))"
   ]
  },
  {
   "cell_type": "code",
   "execution_count": null,
   "id": "de938525-d288-4161-9c8f-9038285c4c1e",
   "metadata": {},
   "outputs": [],
   "source": [
    "Q3. Explain the use of the following operators using an example:\n",
    "(i) /\n",
    "(ii) %\n",
    "(iii) //\n",
    "(iv) **"
   ]
  },
  {
   "cell_type": "markdown",
   "id": "579894ce-c0ea-4fb4-9f23-3bf8eb2beaab",
   "metadata": {},
   "source": [
    "The below operators are arithmetic operators, which can be used for arithmetic operation\n",
    "1. / this operator used for division and it provides quotient as result\n",
    "2. % this is known as modulus operator, and it provides reminder as quotient\n",
    "3. // it known as floor division operator, used when you require an integer or need to return the smallest integer less than or equal to the input.\n",
    "4. ** it is known as power operator, it returns first raised to power second"
   ]
  },
  {
   "cell_type": "code",
   "execution_count": 6,
   "id": "91687cc2-3ebc-4fd1-b2cc-a0bf409f08aa",
   "metadata": {},
   "outputs": [
    {
     "name": "stdout",
     "output_type": "stream",
     "text": [
      "Quotient =  2.2\n",
      "Reminder =  1\n",
      "Floor Division =  2\n",
      "3rd Power of 5 =  125\n"
     ]
    }
   ],
   "source": [
    "a = 11 / 5\n",
    "print(\"Quotient = \",a)\n",
    "\n",
    "b = 11 % 5\n",
    "print(\"Reminder = \",b)\n",
    "\n",
    "c = 11 // 5\n",
    "print(\"Floor Division = \",c)\n",
    "\n",
    "d = 5 ** 3\n",
    "print(\"3rd Power of 5 = \",d)"
   ]
  },
  {
   "cell_type": "markdown",
   "id": "db9dccfc-29fd-4b3d-adbb-974d9e148888",
   "metadata": {},
   "source": [
    "Q4. Create a list of length 10 of your choice containing multiple types of data. Using for loop print the\n",
    "element and its data type."
   ]
  },
  {
   "cell_type": "code",
   "execution_count": 10,
   "id": "1be87a4e-31ef-4455-93b7-b4557435b979",
   "metadata": {},
   "outputs": [
    {
     "name": "stdout",
     "output_type": "stream",
     "text": [
      "[3, 5, 7, 7, 8, 8, 5, 9, 7, 5]\n",
      "3\n",
      "5\n",
      "7\n",
      "7\n",
      "8\n",
      "8\n",
      "5\n",
      "9\n",
      "7\n",
      "5\n"
     ]
    }
   ],
   "source": [
    "import random\n",
    "rand_list=[]\n",
    "n=10\n",
    "for i in range(n):\n",
    "    rand_list.append(random.randint(3,9))\n",
    "print(rand_list)\n",
    "\n",
    "for i in rand_list:\n",
    "    print(i)"
   ]
  },
  {
   "cell_type": "markdown",
   "id": "fda4985e-aa6d-4e45-9518-1207266f51fe",
   "metadata": {},
   "source": [
    "Q5. Using a while loop, verify if the number A is purely divisible by number B and if so then how many\n",
    "times it can be divisible."
   ]
  },
  {
   "cell_type": "code",
   "execution_count": 23,
   "id": "2055d893-8e8f-49ca-a592-d8981bff2e43",
   "metadata": {},
   "outputs": [
    {
     "name": "stdout",
     "output_type": "stream",
     "text": [
      "a is purely divisible by b, by  1  times\n"
     ]
    }
   ],
   "source": [
    "a = 27\n",
    "b = 3\n",
    "i = 0\n",
    "while a%b == 0:\n",
    "    a = a // b\n",
    "    i+=1\n",
    "if (i==0):\n",
    "        print(\"a is not purely divisible by b\")\n",
    "else:\n",
    "    print(\"a is purely divisible by b, by \",i,\" times\")"
   ]
  },
  {
   "cell_type": "markdown",
   "id": "b35f09c7-2dfd-46dd-9bda-2839f9914bab",
   "metadata": {},
   "source": [
    "Q6. Create a list containing 25 int type data. Using for loop and if-else condition print if the element is\n",
    "divisible by 3 or not."
   ]
  },
  {
   "cell_type": "code",
   "execution_count": 26,
   "id": "ffdcdac5-a4c6-4b56-bb5b-8af13643dbc0",
   "metadata": {},
   "outputs": [
    {
     "name": "stdout",
     "output_type": "stream",
     "text": [
      "1  is not divisible by 3\n",
      "2  is not divisible by 3\n",
      "3  is divisible by 3\n",
      "4  is not divisible by 3\n",
      "5  is not divisible by 3\n",
      "6  is divisible by 3\n",
      "7  is not divisible by 3\n",
      "8  is not divisible by 3\n",
      "9  is divisible by 3\n",
      "10  is not divisible by 3\n",
      "11  is not divisible by 3\n",
      "12  is divisible by 3\n",
      "13  is not divisible by 3\n",
      "14  is not divisible by 3\n",
      "15  is divisible by 3\n",
      "16  is not divisible by 3\n",
      "17  is not divisible by 3\n",
      "18  is divisible by 3\n",
      "19  is not divisible by 3\n",
      "20  is not divisible by 3\n",
      "21  is divisible by 3\n",
      "22  is not divisible by 3\n",
      "23  is not divisible by 3\n",
      "24  is divisible by 3\n",
      "25  is not divisible by 3\n"
     ]
    }
   ],
   "source": [
    "int_list = list(range(1,26))\n",
    "for i in int_list:\n",
    "    if i%3==0:\n",
    "        print(i,\" is divisible by 3\")\n",
    "    else:\n",
    "        print(i,\" is not divisible by 3\")"
   ]
  },
  {
   "cell_type": "markdown",
   "id": "da7db802-89b8-4435-97eb-f26b4a43ef3b",
   "metadata": {},
   "source": [
    "Q7. What do you understand about mutable and immutable data types? Give examples for both showing\n",
    "this property."
   ]
  },
  {
   "cell_type": "markdown",
   "id": "3893cab6-9b16-4181-b602-ee2c1335d63b",
   "metadata": {},
   "source": [
    "Immutable Data Types:\n",
    "\n",
    "Immutable data types are those whose values cannot be changed after they are created. If you try to modify an immutable object, a new object is created instead. Examples of immutable data types include:\n",
    "\n",
    "Integers\n",
    "Float\n",
    "Strings\n",
    "Tuples\n",
    "Booleans\n",
    "\n",
    "======================================================================================================================================================\n",
    "\n",
    "Mutable Data Types:\n",
    "\n",
    "Mutable data types are those whose values can be changed after they are created. Examples of mutable data types include:\n",
    "\n",
    "Lists\n",
    "Dictionaries\n",
    "Sets"
   ]
  },
  {
   "cell_type": "code",
   "execution_count": 28,
   "id": "c96ada76-f995-41ee-92bc-97807bcc9808",
   "metadata": {},
   "outputs": [
    {
     "ename": "TypeError",
     "evalue": "'str' object does not support item assignment",
     "output_type": "error",
     "traceback": [
      "\u001b[0;31m---------------------------------------------------------------------------\u001b[0m",
      "\u001b[0;31mTypeError\u001b[0m                                 Traceback (most recent call last)",
      "Cell \u001b[0;32mIn[28], line 3\u001b[0m\n\u001b[1;32m      1\u001b[0m \u001b[38;5;66;03m# Imutable example\u001b[39;00m\n\u001b[1;32m      2\u001b[0m string \u001b[38;5;241m=\u001b[39m \u001b[38;5;124m\"\u001b[39m\u001b[38;5;124mstr\u001b[39m\u001b[38;5;124m\"\u001b[39m\n\u001b[0;32m----> 3\u001b[0m \u001b[43mstring\u001b[49m\u001b[43m[\u001b[49m\u001b[38;5;241;43m1\u001b[39;49m\u001b[43m]\u001b[49m \u001b[38;5;241m=\u001b[39m \u001b[38;5;124m'\u001b[39m\u001b[38;5;124m$\u001b[39m\u001b[38;5;124m'\u001b[39m\n\u001b[1;32m      4\u001b[0m \u001b[38;5;28mprint\u001b[39m(string)\n",
      "\u001b[0;31mTypeError\u001b[0m: 'str' object does not support item assignment"
     ]
    }
   ],
   "source": [
    "# Imutable example\n",
    "string = \"str\"\n",
    "string[1] = '$'\n",
    "print(string)"
   ]
  },
  {
   "cell_type": "code",
   "execution_count": 31,
   "id": "2feab1cc-54cc-43e7-af9d-a414979673dd",
   "metadata": {},
   "outputs": [
    {
     "name": "stdout",
     "output_type": "stream",
     "text": [
      "[1, 2, 3, 4, 5, 'SIX']\n"
     ]
    }
   ],
   "source": [
    "# Mutable example\n",
    "list_ = [1,2,3,4,5,6]\n",
    "list_[5] = \"SIX\"\n",
    "print(list_)"
   ]
  }
 ],
 "metadata": {
  "kernelspec": {
   "display_name": "Python 3 (ipykernel)",
   "language": "python",
   "name": "python3"
  },
  "language_info": {
   "codemirror_mode": {
    "name": "ipython",
    "version": 3
   },
   "file_extension": ".py",
   "mimetype": "text/x-python",
   "name": "python",
   "nbconvert_exporter": "python",
   "pygments_lexer": "ipython3",
   "version": "3.10.8"
  }
 },
 "nbformat": 4,
 "nbformat_minor": 5
}
